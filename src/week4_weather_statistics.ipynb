{
 "cells": [
  {
   "cell_type": "markdown",
   "metadata": {},
   "source": [
    "# DATA 201: Week 4 Weather Statistics\n",
    "For this exercise we will look at (nicely structured and formatted) weather station data from Jefferson Lab: https://www.jlab.org/fm/wx/\n",
    "\n",
    "\n",
    "There are two comma separated value files that contain weather station data from the week of Huricane Dorian https://en.wikipedia.org/wiki/Hurricane_Dorian\n",
    "\n",
    "**Read in the data (from the large file) into lists (or numpy arrays) and produce the following figures**:\n",
    "1. Temperature vs Time\n",
    "2. Wind speed vs Time\n",
    "3. Barometric pressure vs Time\n",
    "4. Temperature vs Time and Heat Index vs Time on the same plot w/Legend\n",
    "\n",
    "Your plots must be properly labeled with units!\n",
    "\n",
    "For the date time axis you may want to us np.datetime64() to cast the values to datetime objects which play nicely with matplotlib.\n",
    "\n",
    "Column headers from headers.csv: `date_time,temperature,heat_index,humidity,barometric_pressure,wind_speed`\n",
    "\n",
    "**Additional Questions that you should answer in your Jupyter notebook submission**:\n",
    "1. What was the maximum wind speed? At what time was the maximum wind speed?\n",
    "2. Is the barometric pressure lower or higher as a hurricane passed by? What was the barometric pressure and at what time\n",
    "3. Do you notice a correlation between windspeed and time of day? If so, what is it?"
   ]
  },
  {
   "cell_type": "code",
   "execution_count": 2,
   "metadata": {},
   "outputs": [],
   "source": [
    "import matplotlib.pyplot as plt\n",
    "import numpy as np\n",
    "import os\n",
    "import csv"
   ]
  },
  {
   "cell_type": "code",
   "execution_count": 3,
   "metadata": {
    "pycharm": {
     "name": "#%%\n"
    }
   },
   "outputs": [
    {
     "name": "stdout",
     "output_type": "stream",
     "text": [
      "Headers: ['date_time', 'temperature', 'heat_index', 'humidity', 'barometric_pressure', 'wind_speed']\n"
     ]
    }
   ],
   "source": [
    "with open(os.path.join(\"..\", \"data\", \"headers.csv\")) as file:\n",
    "    headers = file.readline().strip().split(',')\n",
    "\n",
    "\n",
    "\n",
    "date_time = []\n",
    "temperature = []\n",
    "heat_index = []\n",
    "barometric_pressure = []\n",
    "wind_speed = []\n",
    "\n",
    "with open(os.path.join(\"..\", \"data\", \"weather_09_01-08.csv\")) as file:\n",
    "    reader = csv.reader(file)\n",
    "    for line in reader:\n",
    "        date_time.append(line[0])\n",
    "        temperature.append(line[1])\n",
    "        heat_index.append(line[2])\n",
    "        barometric_pressure.append(line[4])\n",
    "        wind_speed.append(line[5])\n",
    "        \n",
    "date_time = np.array(date_time, dtype=np.datetime64)\n",
    "temperature = np.array(temperature, dtype=np.float64)\n",
    "heat_index = np.array(heat_index)\n",
    "barometric_pressure = np.array(barometric_pressure)\n",
    "wind_speed = np.array(wind_speed)\n",
    "\n",
    "print(f\"Headers: {headers}\")\n",
    "fig_x = 12\n",
    "fig_y = 5"
   ]
  },
  {
   "cell_type": "markdown",
   "source": [
    "## Plot a Data Range vs Temperature with matplotlib and numpy"
   ],
   "metadata": {
    "collapsed": false,
    "pycharm": {
     "name": "#%% md\n"
    }
   }
  },
  {
   "cell_type": "code",
   "execution_count": 4,
   "outputs": [
    {
     "data": {
      "text/plain": "<Figure size 864x360 with 1 Axes>",
      "image/png": "[encoded data removed]"
     },
     "metadata": {
      "needs_background": "light"
     },
     "output_type": "display_data"
    }
   ],
   "source": [
    "date_time[:5]\n",
    "\n",
    "sept6 = np.datetime64('2019-09-06T00:01')\n",
    "sept7 = np.datetime64('2019-09-07T00:01')\n",
    "sept6_bool = (date_time > sept6) & (date_time < sept7)\n",
    "\n",
    "plt.figure(figsize=(fig_x, fig_y))\n",
    "plt.plot(date_time[sept6_bool],temperature[sept6_bool])\n",
    "plt.show()"
   ],
   "metadata": {
    "collapsed": false,
    "pycharm": {
     "name": "#%%\n"
    }
   }
  },
  {
   "cell_type": "markdown",
   "source": [
    "## Histogram of a date range vs temperature"
   ],
   "metadata": {
    "collapsed": false,
    "pycharm": {
     "name": "#%% md\n"
    }
   }
  },
  {
   "cell_type": "code",
   "execution_count": 5,
   "outputs": [
    {
     "data": {
      "text/plain": "<Figure size 864x360 with 1 Axes>",
      "image/png": "[encoded data removed]"
     },
     "metadata": {
      "needs_background": "light"
     },
     "output_type": "display_data"
    }
   ],
   "source": [
    "plt.figure(figsize=(fig_x, fig_y))\n",
    "plt.xlabel(\"Temperature [Deg. F]\")\n",
    "plt.ylabel(\"Samples (0.1 Deg/bin)\")\n",
    "plt.hist(temperature[sept6_bool], bins=20)\n",
    "plt.show()"
   ],
   "metadata": {
    "collapsed": false,
    "pycharm": {
     "name": "#%%\n"
    }
   }
  },
  {
   "cell_type": "code",
   "execution_count": 11,
   "outputs": [
    {
     "name": "stdout",
     "output_type": "stream",
     "text": [
      "70.44545454545455\n",
      "3.3120404897850877\n"
     ]
    }
   ],
   "source": [
    "print(temperature[sept6_bool].mean())\n",
    "print(temperature[sept6_bool].std())"
   ],
   "metadata": {
    "collapsed": false,
    "pycharm": {
     "name": "#%%\n"
    }
   }
  },
  {
   "cell_type": "code",
   "execution_count": 7,
   "outputs": [],
   "source": [
    "each_day = []\n",
    "temperature_means = []\n",
    "temperature_stdev = []\n",
    "temperature_dates = []\n",
    "\n",
    "for i in range(1, 8):\n",
    "    date_min = np.datetime64(f'2019-09-{i:02d}T00:01')\n",
    "    date_max = np.datetime64(f'2019-09-{i+1:02d}T00:01')\n",
    "    bool_for_one_day = (date_time > date_min) & (date_time < date_max)\n",
    "\n",
    "    temperature_means.append(temperature[bool_for_one_day].mean())\n",
    "    temperature_stdev.append(temperature[bool_for_one_day].std())\n",
    "    temperature_dates.append(date_min)"
   ],
   "metadata": {
    "collapsed": false,
    "pycharm": {
     "name": "#%%\n"
    }
   }
  },
  {
   "cell_type": "code",
   "source": [
    "plt.errorbar(temperature_dates, temperature_means, yerr=temperature_stdev)\n",
    "plt.show()"
   ],
   "metadata": {
    "collapsed": false,
    "pycharm": {
     "name": "#%%\n"
    }
   },
   "execution_count": 10,
   "outputs": [
    {
     "data": {
      "text/plain": "<Figure size 432x288 with 1 Axes>",
      "image/png": "[encoded data removed]"
     },
     "metadata": {
      "needs_background": "light"
     },
     "output_type": "display_data"
    }
   ]
  },
  {
   "cell_type": "code",
   "execution_count": 9,
   "outputs": [],
   "source": [],
   "metadata": {
    "collapsed": false,
    "pycharm": {
     "name": "#%%\n"
    }
   }
  }
 ],
 "metadata": {
  "kernelspec": {
   "display_name": "Python 3 (ipykernel)",
   "language": "python",
   "name": "python3"
  },
  "language_info": {
   "codemirror_mode": {
    "name": "ipython",
    "version": 3
   },
   "file_extension": ".py",
   "mimetype": "text/x-python",
   "name": "python",
   "nbconvert_exporter": "python",
   "pygments_lexer": "ipython3",
   "version": "3.9.6"
  }
 },
 "nbformat": 4,
 "nbformat_minor": 4
}