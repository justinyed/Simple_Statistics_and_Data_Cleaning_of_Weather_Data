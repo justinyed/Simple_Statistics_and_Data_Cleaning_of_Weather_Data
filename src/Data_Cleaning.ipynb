{
 "cells": [
  {
   "cell_type": "code",
   "execution_count": 44,
   "metadata": {
    "collapsed": true
   },
   "outputs": [],
   "source": [
    "import csv\n",
    "\n",
    "import pandas as pd"
   ]
  },
  {
   "cell_type": "markdown",
   "source": [
    "Found that the file csv file 2018dbase format changed in the middle of the year.\n",
    "Plan is to split into two separate files."
   ],
   "metadata": {
    "collapsed": false,
    "pycharm": {
     "name": "#%% md\n"
    }
   }
  },
  {
   "cell_type": "code",
   "source": [
    "column_length = []\n",
    "with open(\"../data/2018dbase.csv\") as file, open(\"../data/2018dbase_101.csv\", \"wt\") as file_101, open(\"../data/2018dbase_103.csv\", \"wt\") as file_103:\n",
    "    reader = csv.reader(file)\n",
    "    writer_101 = csv.writer(file_101)\n",
    "    writer_103 = csv.writer(file_103)\n",
    "    for line in reader:\n",
    "        column_length.append(len(line))\n",
    "        if len(line) == 101:\n",
    "            writer_101.writerow(line)\n",
    "        if len(line) == 103:\n",
    "            writer_103.writerow(line)\n",
    "\n"
   ],
   "metadata": {
    "collapsed": false,
    "pycharm": {
     "name": "#%%\n"
    }
   },
   "execution_count": 45,
   "outputs": []
  },
  {
   "cell_type": "code",
   "execution_count": 46,
   "outputs": [
    {
     "data": {
      "text/plain": "                0      1    2    3    4     5     6     7       8      9    \\\n0      201706241830  257.0    0    5   29  46.7  87.3  89.4  29.905  18.79   \n1      201706241840  218.0    0    3   29  46.7  87.3  88.7  29.905  18.79   \n2      201706241850  226.0    0    4   29  48.7  87.1  87.7  29.908  18.79   \n3      201706241900  246.0    0    4   29  50.7  87.1  87.0  29.916  18.79   \n4      201706241910  275.0    0    2   29  51.7  86.9  86.5  29.916  18.79   \n...             ...    ...  ...  ...  ...   ...   ...   ...     ...    ...   \n27266  201712312310  333.0   13   19    9  43.7  69.4  19.6  30.348  42.27   \n27267  201712312320  355.0   10   20    9  45.7  69.4  19.2  30.350  42.27   \n27268  201712312330  334.0    8   18    9  46.7  69.4  19.1  30.360  42.27   \n27269  201712312340  331.0    7   14    9  47.7  69.4  19.1  30.360  42.27   \n27270  201712312350  320.0    5   18    9  48.7  69.4  18.7  30.361  42.27   \n\n       ...  93   94   95   96   97   98   99   100  101  102  \n0      ...    0    0    0    0    0    0    0    0    0    0  \n1      ...    0    0    0    0    0    0    0    0    0    0  \n2      ...    0    0    0    0    0    0    0    0    0    0  \n3      ...    0    0    0    0    0    0    0    0    0    0  \n4      ...    0    0    0    0    0    0    0    0    0    0  \n...    ...  ...  ...  ...  ...  ...  ...  ...  ...  ...  ...  \n27266  ...    0    0    0    0    0    0    0    0    0    0  \n27267  ...    0    0    0    0    0    0    0    0    0    0  \n27268  ...    0    0    0    0    0    0    0    0    0    0  \n27269  ...    0    0    0    0    0    0    0    0    0    0  \n27270  ...    0    0    0    0    0    0    0    0    0    0  \n\n[27271 rows x 103 columns]",
      "text/html": "<div>\n<style scoped>\n    .dataframe tbody tr th:only-of-type {\n        vertical-align: middle;\n    }\n\n    .dataframe tbody tr th {\n        vertical-align: top;\n    }\n\n    .dataframe thead th {\n        text-align: right;\n    }\n</style>\n<table border=\"1\" class=\"dataframe\">\n  <thead>\n    <tr style=\"text-align: right;\">\n      <th></th>\n      <th>0</th>\n      <th>1</th>\n      <th>2</th>\n      <th>3</th>\n      <th>4</th>\n      <th>5</th>\n      <th>6</th>\n      <th>7</th>\n      <th>8</th>\n      <th>9</th>\n      <th>...</th>\n      <th>93</th>\n      <th>94</th>\n      <th>95</th>\n      <th>96</th>\n      <th>97</th>\n      <th>98</th>\n      <th>99</th>\n      <th>100</th>\n      <th>101</th>\n      <th>102</th>\n    </tr>\n  </thead>\n  <tbody>\n    <tr>\n      <th>0</th>\n      <td>201706241830</td>\n      <td>257.0</td>\n      <td>0</td>\n      <td>5</td>\n      <td>29</td>\n      <td>46.7</td>\n      <td>87.3</td>\n      <td>89.4</td>\n      <td>29.905</td>\n      <td>18.79</td>\n      <td>...</td>\n      <td>0</td>\n      <td>0</td>\n      <td>0</td>\n      <td>0</td>\n      <td>0</td>\n      <td>0</td>\n      <td>0</td>\n      <td>0</td>\n      <td>0</td>\n      <td>0</td>\n    </tr>\n    <tr>\n      <th>1</th>\n      <td>201706241840</td>\n      <td>218.0</td>\n      <td>0</td>\n      <td>3</td>\n      <td>29</td>\n      <td>46.7</td>\n      <td>87.3</td>\n      <td>88.7</td>\n      <td>29.905</td>\n      <td>18.79</td>\n      <td>...</td>\n      <td>0</td>\n      <td>0</td>\n      <td>0</td>\n      <td>0</td>\n      <td>0</td>\n      <td>0</td>\n      <td>0</td>\n      <td>0</td>\n      <td>0</td>\n      <td>0</td>\n    </tr>\n    <tr>\n      <th>2</th>\n      <td>201706241850</td>\n      <td>226.0</td>\n      <td>0</td>\n      <td>4</td>\n      <td>29</td>\n      <td>48.7</td>\n      <td>87.1</td>\n      <td>87.7</td>\n      <td>29.908</td>\n      <td>18.79</td>\n      <td>...</td>\n      <td>0</td>\n      <td>0</td>\n      <td>0</td>\n      <td>0</td>\n      <td>0</td>\n      <td>0</td>\n      <td>0</td>\n      <td>0</td>\n      <td>0</td>\n      <td>0</td>\n    </tr>\n    <tr>\n      <th>3</th>\n      <td>201706241900</td>\n      <td>246.0</td>\n      <td>0</td>\n      <td>4</td>\n      <td>29</td>\n      <td>50.7</td>\n      <td>87.1</td>\n      <td>87.0</td>\n      <td>29.916</td>\n      <td>18.79</td>\n      <td>...</td>\n      <td>0</td>\n      <td>0</td>\n      <td>0</td>\n      <td>0</td>\n      <td>0</td>\n      <td>0</td>\n      <td>0</td>\n      <td>0</td>\n      <td>0</td>\n      <td>0</td>\n    </tr>\n    <tr>\n      <th>4</th>\n      <td>201706241910</td>\n      <td>275.0</td>\n      <td>0</td>\n      <td>2</td>\n      <td>29</td>\n      <td>51.7</td>\n      <td>86.9</td>\n      <td>86.5</td>\n      <td>29.916</td>\n      <td>18.79</td>\n      <td>...</td>\n      <td>0</td>\n      <td>0</td>\n      <td>0</td>\n      <td>0</td>\n      <td>0</td>\n      <td>0</td>\n      <td>0</td>\n      <td>0</td>\n      <td>0</td>\n      <td>0</td>\n    </tr>\n    <tr>\n      <th>...</th>\n      <td>...</td>\n      <td>...</td>\n      <td>...</td>\n      <td>...</td>\n      <td>...</td>\n      <td>...</td>\n      <td>...</td>\n      <td>...</td>\n      <td>...</td>\n      <td>...</td>\n      <td>...</td>\n      <td>...</td>\n      <td>...</td>\n      <td>...</td>\n      <td>...</td>\n      <td>...</td>\n      <td>...</td>\n      <td>...</td>\n      <td>...</td>\n      <td>...</td>\n      <td>...</td>\n    </tr>\n    <tr>\n      <th>27266</th>\n      <td>201712312310</td>\n      <td>333.0</td>\n      <td>13</td>\n      <td>19</td>\n      <td>9</td>\n      <td>43.7</td>\n      <td>69.4</td>\n      <td>19.6</td>\n      <td>30.348</td>\n      <td>42.27</td>\n      <td>...</td>\n      <td>0</td>\n      <td>0</td>\n      <td>0</td>\n      <td>0</td>\n      <td>0</td>\n      <td>0</td>\n      <td>0</td>\n      <td>0</td>\n      <td>0</td>\n      <td>0</td>\n    </tr>\n    <tr>\n      <th>27267</th>\n      <td>201712312320</td>\n      <td>355.0</td>\n      <td>10</td>\n      <td>20</td>\n      <td>9</td>\n      <td>45.7</td>\n      <td>69.4</td>\n      <td>19.2</td>\n      <td>30.350</td>\n      <td>42.27</td>\n      <td>...</td>\n      <td>0</td>\n      <td>0</td>\n      <td>0</td>\n      <td>0</td>\n      <td>0</td>\n      <td>0</td>\n      <td>0</td>\n      <td>0</td>\n      <td>0</td>\n      <td>0</td>\n    </tr>\n    <tr>\n      <th>27268</th>\n      <td>201712312330</td>\n      <td>334.0</td>\n      <td>8</td>\n      <td>18</td>\n      <td>9</td>\n      <td>46.7</td>\n      <td>69.4</td>\n      <td>19.1</td>\n      <td>30.360</td>\n      <td>42.27</td>\n      <td>...</td>\n      <td>0</td>\n      <td>0</td>\n      <td>0</td>\n      <td>0</td>\n      <td>0</td>\n      <td>0</td>\n      <td>0</td>\n      <td>0</td>\n      <td>0</td>\n      <td>0</td>\n    </tr>\n    <tr>\n      <th>27269</th>\n      <td>201712312340</td>\n      <td>331.0</td>\n      <td>7</td>\n      <td>14</td>\n      <td>9</td>\n      <td>47.7</td>\n      <td>69.4</td>\n      <td>19.1</td>\n      <td>30.360</td>\n      <td>42.27</td>\n      <td>...</td>\n      <td>0</td>\n      <td>0</td>\n      <td>0</td>\n      <td>0</td>\n      <td>0</td>\n      <td>0</td>\n      <td>0</td>\n      <td>0</td>\n      <td>0</td>\n      <td>0</td>\n    </tr>\n    <tr>\n      <th>27270</th>\n      <td>201712312350</td>\n      <td>320.0</td>\n      <td>5</td>\n      <td>18</td>\n      <td>9</td>\n      <td>48.7</td>\n      <td>69.4</td>\n      <td>18.7</td>\n      <td>30.361</td>\n      <td>42.27</td>\n      <td>...</td>\n      <td>0</td>\n      <td>0</td>\n      <td>0</td>\n      <td>0</td>\n      <td>0</td>\n      <td>0</td>\n      <td>0</td>\n      <td>0</td>\n      <td>0</td>\n      <td>0</td>\n    </tr>\n  </tbody>\n</table>\n<p>27271 rows × 103 columns</p>\n</div>"
     },
     "execution_count": 46,
     "metadata": {},
     "output_type": "execute_result"
    }
   ],
   "source": [
    "headers = \"DATE,WIND DIR,WIND SPD,GUST,IN HUM,OUT HUM,IN TEMP,OUT TEMP,BARO,TOT RAIN,NA,NA,NA,NA,NA,NA,EVAPOTRANSPIRATION,NA,NA,WIND CHILL,IN HEAT INDEX,OUT HEAT INDEX\".split(\",\")\n",
    "df = pd.read_csv(\"../data/2017dbase.csv\", header=None)\n",
    "df"
   ],
   "metadata": {
    "collapsed": false,
    "pycharm": {
     "name": "#%%\n"
    }
   }
  },
  {
   "cell_type": "code",
   "execution_count": 51,
   "outputs": [
    {
     "data": {
      "text/plain": "                 0      1   2   3   4     5     6     7       8      9   ...  \\\n0      201706241830  257.0   0   5  29  46.7  87.3  89.4  29.905  18.79  ...   \n1      201706241840  218.0   0   3  29  46.7  87.3  88.7  29.905  18.79  ...   \n2      201706241850  226.0   0   4  29  48.7  87.1  87.7  29.908  18.79  ...   \n3      201706241900  246.0   0   4  29  50.7  87.1  87.0  29.916  18.79  ...   \n4      201706241910  275.0   0   2  29  51.7  86.9  86.5  29.916  18.79  ...   \n...             ...    ...  ..  ..  ..   ...   ...   ...     ...    ...  ...   \n27266  201712312310  333.0  13  19   9  43.7  69.4  19.6  30.348  42.27  ...   \n27267  201712312320  355.0  10  20   9  45.7  69.4  19.2  30.350  42.27  ...   \n27268  201712312330  334.0   8  18   9  46.7  69.4  19.1  30.360  42.27  ...   \n27269  201712312340  331.0   7  14   9  47.7  69.4  19.1  30.360  42.27  ...   \n27270  201712312350  320.0   5  18   9  48.7  69.4  18.7  30.361  42.27  ...   \n\n       11  12  13  14  15  16  17  18      19      20  \n0       0   0   0   0   0   0   0   0  89.400  84.860  \n1       0   0   0   0   0   0   0   0  88.700  84.860  \n2       0   0   0   0   0   0   0   0  87.700  84.664  \n3       0   0   0   0   0   0   0   0  87.000  84.664  \n4       0   0   0   0   0   0   0   0  86.500  84.471  \n...    ..  ..  ..  ..  ..  ..  ..  ..     ...     ...  \n27266   0   0   0   0   0   0   0   0   6.662  67.476  \n27267   0   0   0   0   0   0   0   0   7.862  67.476  \n27268   0   0   0   0   0   0   0   0   9.137  67.476  \n27269   0   0   0   0   0   0   0   0   9.950  67.476  \n27270   0   0   0   0   0   0   0   0  11.454  67.476  \n\n[27271 rows x 21 columns]",
      "text/html": "<div>\n<style scoped>\n    .dataframe tbody tr th:only-of-type {\n        vertical-align: middle;\n    }\n\n    .dataframe tbody tr th {\n        vertical-align: top;\n    }\n\n    .dataframe thead th {\n        text-align: right;\n    }\n</style>\n<table border=\"1\" class=\"dataframe\">\n  <thead>\n    <tr style=\"text-align: right;\">\n      <th></th>\n      <th>0</th>\n      <th>1</th>\n      <th>2</th>\n      <th>3</th>\n      <th>4</th>\n      <th>5</th>\n      <th>6</th>\n      <th>7</th>\n      <th>8</th>\n      <th>9</th>\n      <th>...</th>\n      <th>11</th>\n      <th>12</th>\n      <th>13</th>\n      <th>14</th>\n      <th>15</th>\n      <th>16</th>\n      <th>17</th>\n      <th>18</th>\n      <th>19</th>\n      <th>20</th>\n    </tr>\n  </thead>\n  <tbody>\n    <tr>\n      <th>0</th>\n      <td>201706241830</td>\n      <td>257.0</td>\n      <td>0</td>\n      <td>5</td>\n      <td>29</td>\n      <td>46.7</td>\n      <td>87.3</td>\n      <td>89.4</td>\n      <td>29.905</td>\n      <td>18.79</td>\n      <td>...</td>\n      <td>0</td>\n      <td>0</td>\n      <td>0</td>\n      <td>0</td>\n      <td>0</td>\n      <td>0</td>\n      <td>0</td>\n      <td>0</td>\n      <td>89.400</td>\n      <td>84.860</td>\n    </tr>\n    <tr>\n      <th>1</th>\n      <td>201706241840</td>\n      <td>218.0</td>\n      <td>0</td>\n      <td>3</td>\n      <td>29</td>\n      <td>46.7</td>\n      <td>87.3</td>\n      <td>88.7</td>\n      <td>29.905</td>\n      <td>18.79</td>\n      <td>...</td>\n      <td>0</td>\n      <td>0</td>\n      <td>0</td>\n      <td>0</td>\n      <td>0</td>\n      <td>0</td>\n      <td>0</td>\n      <td>0</td>\n      <td>88.700</td>\n      <td>84.860</td>\n    </tr>\n    <tr>\n      <th>2</th>\n      <td>201706241850</td>\n      <td>226.0</td>\n      <td>0</td>\n      <td>4</td>\n      <td>29</td>\n      <td>48.7</td>\n      <td>87.1</td>\n      <td>87.7</td>\n      <td>29.908</td>\n      <td>18.79</td>\n      <td>...</td>\n      <td>0</td>\n      <td>0</td>\n      <td>0</td>\n      <td>0</td>\n      <td>0</td>\n      <td>0</td>\n      <td>0</td>\n      <td>0</td>\n      <td>87.700</td>\n      <td>84.664</td>\n    </tr>\n    <tr>\n      <th>3</th>\n      <td>201706241900</td>\n      <td>246.0</td>\n      <td>0</td>\n      <td>4</td>\n      <td>29</td>\n      <td>50.7</td>\n      <td>87.1</td>\n      <td>87.0</td>\n      <td>29.916</td>\n      <td>18.79</td>\n      <td>...</td>\n      <td>0</td>\n      <td>0</td>\n      <td>0</td>\n      <td>0</td>\n      <td>0</td>\n      <td>0</td>\n      <td>0</td>\n      <td>0</td>\n      <td>87.000</td>\n      <td>84.664</td>\n    </tr>\n    <tr>\n      <th>4</th>\n      <td>201706241910</td>\n      <td>275.0</td>\n      <td>0</td>\n      <td>2</td>\n      <td>29</td>\n      <td>51.7</td>\n      <td>86.9</td>\n      <td>86.5</td>\n      <td>29.916</td>\n      <td>18.79</td>\n      <td>...</td>\n      <td>0</td>\n      <td>0</td>\n      <td>0</td>\n      <td>0</td>\n      <td>0</td>\n      <td>0</td>\n      <td>0</td>\n      <td>0</td>\n      <td>86.500</td>\n      <td>84.471</td>\n    </tr>\n    <tr>\n      <th>...</th>\n      <td>...</td>\n      <td>...</td>\n      <td>...</td>\n      <td>...</td>\n      <td>...</td>\n      <td>...</td>\n      <td>...</td>\n      <td>...</td>\n      <td>...</td>\n      <td>...</td>\n      <td>...</td>\n      <td>...</td>\n      <td>...</td>\n      <td>...</td>\n      <td>...</td>\n      <td>...</td>\n      <td>...</td>\n      <td>...</td>\n      <td>...</td>\n      <td>...</td>\n      <td>...</td>\n    </tr>\n    <tr>\n      <th>27266</th>\n      <td>201712312310</td>\n      <td>333.0</td>\n      <td>13</td>\n      <td>19</td>\n      <td>9</td>\n      <td>43.7</td>\n      <td>69.4</td>\n      <td>19.6</td>\n      <td>30.348</td>\n      <td>42.27</td>\n      <td>...</td>\n      <td>0</td>\n      <td>0</td>\n      <td>0</td>\n      <td>0</td>\n      <td>0</td>\n      <td>0</td>\n      <td>0</td>\n      <td>0</td>\n      <td>6.662</td>\n      <td>67.476</td>\n    </tr>\n    <tr>\n      <th>27267</th>\n      <td>201712312320</td>\n      <td>355.0</td>\n      <td>10</td>\n      <td>20</td>\n      <td>9</td>\n      <td>45.7</td>\n      <td>69.4</td>\n      <td>19.2</td>\n      <td>30.350</td>\n      <td>42.27</td>\n      <td>...</td>\n      <td>0</td>\n      <td>0</td>\n      <td>0</td>\n      <td>0</td>\n      <td>0</td>\n      <td>0</td>\n      <td>0</td>\n      <td>0</td>\n      <td>7.862</td>\n      <td>67.476</td>\n    </tr>\n    <tr>\n      <th>27268</th>\n      <td>201712312330</td>\n      <td>334.0</td>\n      <td>8</td>\n      <td>18</td>\n      <td>9</td>\n      <td>46.7</td>\n      <td>69.4</td>\n      <td>19.1</td>\n      <td>30.360</td>\n      <td>42.27</td>\n      <td>...</td>\n      <td>0</td>\n      <td>0</td>\n      <td>0</td>\n      <td>0</td>\n      <td>0</td>\n      <td>0</td>\n      <td>0</td>\n      <td>0</td>\n      <td>9.137</td>\n      <td>67.476</td>\n    </tr>\n    <tr>\n      <th>27269</th>\n      <td>201712312340</td>\n      <td>331.0</td>\n      <td>7</td>\n      <td>14</td>\n      <td>9</td>\n      <td>47.7</td>\n      <td>69.4</td>\n      <td>19.1</td>\n      <td>30.360</td>\n      <td>42.27</td>\n      <td>...</td>\n      <td>0</td>\n      <td>0</td>\n      <td>0</td>\n      <td>0</td>\n      <td>0</td>\n      <td>0</td>\n      <td>0</td>\n      <td>0</td>\n      <td>9.950</td>\n      <td>67.476</td>\n    </tr>\n    <tr>\n      <th>27270</th>\n      <td>201712312350</td>\n      <td>320.0</td>\n      <td>5</td>\n      <td>18</td>\n      <td>9</td>\n      <td>48.7</td>\n      <td>69.4</td>\n      <td>18.7</td>\n      <td>30.361</td>\n      <td>42.27</td>\n      <td>...</td>\n      <td>0</td>\n      <td>0</td>\n      <td>0</td>\n      <td>0</td>\n      <td>0</td>\n      <td>0</td>\n      <td>0</td>\n      <td>0</td>\n      <td>11.454</td>\n      <td>67.476</td>\n    </tr>\n  </tbody>\n</table>\n<p>27271 rows × 21 columns</p>\n</div>"
     },
     "execution_count": 51,
     "metadata": {},
     "output_type": "execute_result"
    }
   ],
   "source": [
    "df = df.drop(range(21, 103), axis=1)\n",
    "df"
   ],
   "metadata": {
    "collapsed": false,
    "pycharm": {
     "name": "#%%\n"
    }
   }
  },
  {
   "cell_type": "code",
   "execution_count": null,
   "outputs": [],
   "source": [],
   "metadata": {
    "collapsed": false,
    "pycharm": {
     "name": "#%%\n"
    }
   }
  },
  {
   "cell_type": "code",
   "execution_count": 54,
   "outputs": [],
   "source": [
    "df2 = pd.DataFrame(df.values, columns=headers[:21])"
   ],
   "metadata": {
    "collapsed": false,
    "pycharm": {
     "name": "#%%\n"
    }
   }
  },
  {
   "cell_type": "code",
   "execution_count": 55,
   "outputs": [
    {
     "data": {
      "text/plain": "               DATE  WIND DIR  WIND SPD  GUST  IN HUM  OUT HUM  IN TEMP  \\\n0      2.017062e+11     257.0       0.0   5.0    29.0     46.7     87.3   \n1      2.017062e+11     218.0       0.0   3.0    29.0     46.7     87.3   \n2      2.017062e+11     226.0       0.0   4.0    29.0     48.7     87.1   \n3      2.017062e+11     246.0       0.0   4.0    29.0     50.7     87.1   \n4      2.017062e+11     275.0       0.0   2.0    29.0     51.7     86.9   \n...             ...       ...       ...   ...     ...      ...      ...   \n27266  2.017123e+11     333.0      13.0  19.0     9.0     43.7     69.4   \n27267  2.017123e+11     355.0      10.0  20.0     9.0     45.7     69.4   \n27268  2.017123e+11     334.0       8.0  18.0     9.0     46.7     69.4   \n27269  2.017123e+11     331.0       7.0  14.0     9.0     47.7     69.4   \n27270  2.017123e+11     320.0       5.0  18.0     9.0     48.7     69.4   \n\n       OUT TEMP    BARO  TOT RAIN  EVAPOTRANSPIRATION  WIND CHILL  \\\n0          89.4  29.905     18.79                 0.0      89.400   \n1          88.7  29.905     18.79                 0.0      88.700   \n2          87.7  29.908     18.79                 0.0      87.700   \n3          87.0  29.916     18.79                 0.0      87.000   \n4          86.5  29.916     18.79                 0.0      86.500   \n...         ...     ...       ...                 ...         ...   \n27266      19.6  30.348     42.27                 0.0       6.662   \n27267      19.2  30.350     42.27                 0.0       7.862   \n27268      19.1  30.360     42.27                 0.0       9.137   \n27269      19.1  30.360     42.27                 0.0       9.950   \n27270      18.7  30.361     42.27                 0.0      11.454   \n\n       IN HEAT INDEX  \n0             84.860  \n1             84.860  \n2             84.664  \n3             84.664  \n4             84.471  \n...              ...  \n27266         67.476  \n27267         67.476  \n27268         67.476  \n27269         67.476  \n27270         67.476  \n\n[27271 rows x 13 columns]",
      "text/html": "<div>\n<style scoped>\n    .dataframe tbody tr th:only-of-type {\n        vertical-align: middle;\n    }\n\n    .dataframe tbody tr th {\n        vertical-align: top;\n    }\n\n    .dataframe thead th {\n        text-align: right;\n    }\n</style>\n<table border=\"1\" class=\"dataframe\">\n  <thead>\n    <tr style=\"text-align: right;\">\n      <th></th>\n      <th>DATE</th>\n      <th>WIND DIR</th>\n      <th>WIND SPD</th>\n      <th>GUST</th>\n      <th>IN HUM</th>\n      <th>OUT HUM</th>\n      <th>IN TEMP</th>\n      <th>OUT TEMP</th>\n      <th>BARO</th>\n      <th>TOT RAIN</th>\n      <th>EVAPOTRANSPIRATION</th>\n      <th>WIND CHILL</th>\n      <th>IN HEAT INDEX</th>\n    </tr>\n  </thead>\n  <tbody>\n    <tr>\n      <th>0</th>\n      <td>2.017062e+11</td>\n      <td>257.0</td>\n      <td>0.0</td>\n      <td>5.0</td>\n      <td>29.0</td>\n      <td>46.7</td>\n      <td>87.3</td>\n      <td>89.4</td>\n      <td>29.905</td>\n      <td>18.79</td>\n      <td>0.0</td>\n      <td>89.400</td>\n      <td>84.860</td>\n    </tr>\n    <tr>\n      <th>1</th>\n      <td>2.017062e+11</td>\n      <td>218.0</td>\n      <td>0.0</td>\n      <td>3.0</td>\n      <td>29.0</td>\n      <td>46.7</td>\n      <td>87.3</td>\n      <td>88.7</td>\n      <td>29.905</td>\n      <td>18.79</td>\n      <td>0.0</td>\n      <td>88.700</td>\n      <td>84.860</td>\n    </tr>\n    <tr>\n      <th>2</th>\n      <td>2.017062e+11</td>\n      <td>226.0</td>\n      <td>0.0</td>\n      <td>4.0</td>\n      <td>29.0</td>\n      <td>48.7</td>\n      <td>87.1</td>\n      <td>87.7</td>\n      <td>29.908</td>\n      <td>18.79</td>\n      <td>0.0</td>\n      <td>87.700</td>\n      <td>84.664</td>\n    </tr>\n    <tr>\n      <th>3</th>\n      <td>2.017062e+11</td>\n      <td>246.0</td>\n      <td>0.0</td>\n      <td>4.0</td>\n      <td>29.0</td>\n      <td>50.7</td>\n      <td>87.1</td>\n      <td>87.0</td>\n      <td>29.916</td>\n      <td>18.79</td>\n      <td>0.0</td>\n      <td>87.000</td>\n      <td>84.664</td>\n    </tr>\n    <tr>\n      <th>4</th>\n      <td>2.017062e+11</td>\n      <td>275.0</td>\n      <td>0.0</td>\n      <td>2.0</td>\n      <td>29.0</td>\n      <td>51.7</td>\n      <td>86.9</td>\n      <td>86.5</td>\n      <td>29.916</td>\n      <td>18.79</td>\n      <td>0.0</td>\n      <td>86.500</td>\n      <td>84.471</td>\n    </tr>\n    <tr>\n      <th>...</th>\n      <td>...</td>\n      <td>...</td>\n      <td>...</td>\n      <td>...</td>\n      <td>...</td>\n      <td>...</td>\n      <td>...</td>\n      <td>...</td>\n      <td>...</td>\n      <td>...</td>\n      <td>...</td>\n      <td>...</td>\n      <td>...</td>\n    </tr>\n    <tr>\n      <th>27266</th>\n      <td>2.017123e+11</td>\n      <td>333.0</td>\n      <td>13.0</td>\n      <td>19.0</td>\n      <td>9.0</td>\n      <td>43.7</td>\n      <td>69.4</td>\n      <td>19.6</td>\n      <td>30.348</td>\n      <td>42.27</td>\n      <td>0.0</td>\n      <td>6.662</td>\n      <td>67.476</td>\n    </tr>\n    <tr>\n      <th>27267</th>\n      <td>2.017123e+11</td>\n      <td>355.0</td>\n      <td>10.0</td>\n      <td>20.0</td>\n      <td>9.0</td>\n      <td>45.7</td>\n      <td>69.4</td>\n      <td>19.2</td>\n      <td>30.350</td>\n      <td>42.27</td>\n      <td>0.0</td>\n      <td>7.862</td>\n      <td>67.476</td>\n    </tr>\n    <tr>\n      <th>27268</th>\n      <td>2.017123e+11</td>\n      <td>334.0</td>\n      <td>8.0</td>\n      <td>18.0</td>\n      <td>9.0</td>\n      <td>46.7</td>\n      <td>69.4</td>\n      <td>19.1</td>\n      <td>30.360</td>\n      <td>42.27</td>\n      <td>0.0</td>\n      <td>9.137</td>\n      <td>67.476</td>\n    </tr>\n    <tr>\n      <th>27269</th>\n      <td>2.017123e+11</td>\n      <td>331.0</td>\n      <td>7.0</td>\n      <td>14.0</td>\n      <td>9.0</td>\n      <td>47.7</td>\n      <td>69.4</td>\n      <td>19.1</td>\n      <td>30.360</td>\n      <td>42.27</td>\n      <td>0.0</td>\n      <td>9.950</td>\n      <td>67.476</td>\n    </tr>\n    <tr>\n      <th>27270</th>\n      <td>2.017123e+11</td>\n      <td>320.0</td>\n      <td>5.0</td>\n      <td>18.0</td>\n      <td>9.0</td>\n      <td>48.7</td>\n      <td>69.4</td>\n      <td>18.7</td>\n      <td>30.361</td>\n      <td>42.27</td>\n      <td>0.0</td>\n      <td>11.454</td>\n      <td>67.476</td>\n    </tr>\n  </tbody>\n</table>\n<p>27271 rows × 13 columns</p>\n</div>"
     },
     "execution_count": 55,
     "metadata": {},
     "output_type": "execute_result"
    }
   ],
   "source": [
    "df2.drop(\"NA\", axis=1)"
   ],
   "metadata": {
    "collapsed": false,
    "pycharm": {
     "name": "#%%\n"
    }
   }
  },
  {
   "cell_type": "code",
   "execution_count": null,
   "outputs": [],
   "source": [],
   "metadata": {
    "collapsed": false,
    "pycharm": {
     "name": "#%%\n"
    }
   }
  }
 ],
 "metadata": {
  "kernelspec": {
   "display_name": "Python 3",
   "language": "python",
   "name": "python3"
  },
  "language_info": {
   "codemirror_mode": {
    "name": "ipython",
    "version": 2
   },
   "file_extension": ".py",
   "mimetype": "text/x-python",
   "name": "python",
   "nbconvert_exporter": "python",
   "pygments_lexer": "ipython2",
   "version": "2.7.6"
  }
 },
 "nbformat": 4,
 "nbformat_minor": 0
}